{
 "cells": [
  {
   "cell_type": "code",
   "execution_count": 1,
   "id": "initial_id",
   "metadata": {
    "ExecuteTime": {
     "end_time": "2024-03-09T17:14:51.081698Z",
     "start_time": "2024-03-09T17:14:51.078381Z"
    },
    "collapsed": true
   },
   "outputs": [],
   "source": [
    "# Numerical\n",
    "\n",
    "x = 5"
   ]
  },
  {
   "cell_type": "code",
   "execution_count": 2,
   "id": "8b468562b9feb248",
   "metadata": {
    "ExecuteTime": {
     "end_time": "2024-03-09T17:16:06.537329Z",
     "start_time": "2024-03-09T17:16:06.527033Z"
    },
    "collapsed": false
   },
   "outputs": [
    {
     "name": "stdout",
     "output_type": "stream",
     "text": [
      "26.25\n"
     ]
    }
   ],
   "source": [
    "price = 26.25\n",
    "print(price)"
   ]
  },
  {
   "cell_type": "code",
   "execution_count": 3,
   "id": "bb899842870f6ade",
   "metadata": {
    "ExecuteTime": {
     "end_time": "2024-03-09T17:17:05.650765Z",
     "start_time": "2024-03-09T17:17:05.639657Z"
    },
    "collapsed": false
   },
   "outputs": [
    {
     "name": "stdout",
     "output_type": "stream",
     "text": [
      "3000000.0\n"
     ]
    }
   ],
   "source": [
    "num = 3e6\n",
    "print(num)"
   ]
  },
  {
   "cell_type": "code",
   "execution_count": 4,
   "id": "51bc9ab8d0c79121",
   "metadata": {
    "ExecuteTime": {
     "end_time": "2024-03-09T17:18:21.150743Z",
     "start_time": "2024-03-09T17:18:21.134750Z"
    },
    "collapsed": false
   },
   "outputs": [
    {
     "name": "stdout",
     "output_type": "stream",
     "text": [
      "(4+5j)\n"
     ]
    }
   ],
   "source": [
    "z = 4 + 5j \n",
    "print(z)"
   ]
  },
  {
   "cell_type": "code",
   "execution_count": 5,
   "id": "c370ee43e9816b7e",
   "metadata": {
    "ExecuteTime": {
     "end_time": "2024-03-09T17:19:02.329027Z",
     "start_time": "2024-03-09T17:19:02.322737Z"
    },
    "collapsed": false
   },
   "outputs": [
    {
     "name": "stdout",
     "output_type": "stream",
     "text": [
      "<class 'complex'>\n"
     ]
    }
   ],
   "source": [
    "print(type(z))"
   ]
  },
  {
   "cell_type": "code",
   "execution_count": 6,
   "id": "61a8b09f03ee33f8",
   "metadata": {
    "ExecuteTime": {
     "end_time": "2024-03-09T17:19:19.727967Z",
     "start_time": "2024-03-09T17:19:19.717414Z"
    },
    "collapsed": false
   },
   "outputs": [
    {
     "name": "stdout",
     "output_type": "stream",
     "text": [
      "<class 'float'>\n"
     ]
    }
   ],
   "source": [
    "print(type(num))"
   ]
  },
  {
   "cell_type": "code",
   "execution_count": 7,
   "id": "62827b8fec5e0331",
   "metadata": {
    "ExecuteTime": {
     "end_time": "2024-03-09T17:19:35.112237Z",
     "start_time": "2024-03-09T17:19:35.106335Z"
    },
    "collapsed": false
   },
   "outputs": [
    {
     "name": "stdout",
     "output_type": "stream",
     "text": [
      "<class 'int'>\n"
     ]
    }
   ],
   "source": [
    "print(type(x))"
   ]
  },
  {
   "cell_type": "code",
   "execution_count": 8,
   "id": "5340326b57eb340d",
   "metadata": {
    "ExecuteTime": {
     "end_time": "2024-03-09T17:20:09.768188Z",
     "start_time": "2024-03-09T17:20:09.762981Z"
    },
    "collapsed": false
   },
   "outputs": [
    {
     "name": "stdout",
     "output_type": "stream",
     "text": [
      "5\n"
     ]
    }
   ],
   "source": [
    "print(abs(-5))"
   ]
  },
  {
   "cell_type": "code",
   "execution_count": 9,
   "id": "4fe6794d354baa2a",
   "metadata": {
    "ExecuteTime": {
     "end_time": "2024-03-09T17:20:22.664858Z",
     "start_time": "2024-03-09T17:20:22.660733Z"
    },
    "collapsed": false
   },
   "outputs": [
    {
     "name": "stdout",
     "output_type": "stream",
     "text": [
      "1.0\n"
     ]
    }
   ],
   "source": [
    "print(abs(1.000000))"
   ]
  },
  {
   "cell_type": "code",
   "execution_count": 10,
   "id": "4ff8162775ec51d8",
   "metadata": {
    "ExecuteTime": {
     "end_time": "2024-03-09T17:22:18.515770Z",
     "start_time": "2024-03-09T17:22:18.508678Z"
    },
    "collapsed": false
   },
   "outputs": [
    {
     "name": "stdout",
     "output_type": "stream",
     "text": [
      "8\n"
     ]
    }
   ],
   "source": [
    "print(pow(2,3))"
   ]
  },
  {
   "cell_type": "code",
   "execution_count": 11,
   "id": "344a0f44c42350ab",
   "metadata": {
    "ExecuteTime": {
     "end_time": "2024-03-09T17:23:55.430003Z",
     "start_time": "2024-03-09T17:23:55.424775Z"
    },
    "collapsed": false
   },
   "outputs": [
    {
     "name": "stdout",
     "output_type": "stream",
     "text": [
      "5\n",
      "4\n"
     ]
    }
   ],
   "source": [
    "print(round(4.75))\n",
    "print(round(4.5))"
   ]
  },
  {
   "cell_type": "code",
   "execution_count": 12,
   "id": "ce0c0afbc956d658",
   "metadata": {
    "ExecuteTime": {
     "end_time": "2024-03-09T17:25:30.896757Z",
     "start_time": "2024-03-09T17:25:30.887036Z"
    },
    "collapsed": false
   },
   "outputs": [
    {
     "name": "stdout",
     "output_type": "stream",
     "text": [
      "1\n",
      "9\n",
      "26\n"
     ]
    }
   ],
   "source": [
    "nums = [3,1,5,7,9,1]\n",
    "\n",
    "print(min(nums))\n",
    "print(max(nums))\n",
    "print(sum(nums))\n",
    "\n"
   ]
  },
  {
   "cell_type": "code",
   "execution_count": 13,
   "id": "da6f75f5c723fb2b",
   "metadata": {
    "ExecuteTime": {
     "end_time": "2024-03-09T17:32:39.846052Z",
     "start_time": "2024-03-09T17:32:39.842312Z"
    },
    "collapsed": false
   },
   "outputs": [],
   "source": [
    "name = 'anik'\n",
    "city = \"kolkata\"\n",
    "country = '''india'''"
   ]
  },
  {
   "cell_type": "code",
   "execution_count": 14,
   "id": "79996af8b6c541e3",
   "metadata": {
    "ExecuteTime": {
     "end_time": "2024-03-09T17:33:26.257774Z",
     "start_time": "2024-03-09T17:33:26.253603Z"
    },
    "collapsed": false
   },
   "outputs": [],
   "source": [
    "massg = '''\n",
    "Helo my dear friend\n",
    "this is a multiline commnent\n",
    "'''"
   ]
  },
  {
   "cell_type": "code",
   "execution_count": 15,
   "id": "e911817e6237f376",
   "metadata": {
    "ExecuteTime": {
     "end_time": "2024-03-09T17:35:19.138780Z",
     "start_time": "2024-03-09T17:35:19.134826Z"
    },
    "collapsed": false
   },
   "outputs": [
    {
     "name": "stdout",
     "output_type": "stream",
     "text": [
      "k\n"
     ]
    }
   ],
   "source": [
    "name = 'Anik Das'\n",
    "\n",
    "print(name[3])"
   ]
  },
  {
   "cell_type": "code",
   "execution_count": 16,
   "id": "90b269181bb2fa5c",
   "metadata": {
    "ExecuteTime": {
     "end_time": "2024-03-09T17:36:17.898366Z",
     "start_time": "2024-03-09T17:36:17.851659Z"
    },
    "collapsed": false
   },
   "outputs": [
    {
     "ename": "IndexError",
     "evalue": "string index out of range",
     "output_type": "error",
     "traceback": [
      "\u001b[0;31m---------------------------------------------------------------------------\u001b[0m",
      "\u001b[0;31mIndexError\u001b[0m                                Traceback (most recent call last)",
      "\u001b[1;32m/workspace/python-for-ai-pwskill-/Data Types.ipynb Cell 16\u001b[0m line \u001b[0;36m1\n\u001b[0;32m----> <a href='vscode-notebook-cell://anik00716-pythonforaipw-gk5590d2qwy.ws-us110.gitpod.io/workspace/python-for-ai-pwskill-/Data%20Types.ipynb#X21sdnNjb2RlLXJlbW90ZQ%3D%3D?line=0'>1</a>\u001b[0m \u001b[39mprint\u001b[39m(name[\u001b[39m12\u001b[39;49m])\n",
      "\u001b[0;31mIndexError\u001b[0m: string index out of range"
     ]
    }
   ],
   "source": [
    "print(name[12])"
   ]
  },
  {
   "cell_type": "code",
   "execution_count": null,
   "id": "54fb4a9ce39bf356",
   "metadata": {
    "ExecuteTime": {
     "end_time": "2024-03-09T17:36:58.953497Z",
     "start_time": "2024-03-09T17:36:58.945977Z"
    },
    "collapsed": false
   },
   "outputs": [
    {
     "name": "stdout",
     "output_type": "stream",
     "text": [
      "s\n"
     ]
    }
   ],
   "source": [
    "print(name[-1])"
   ]
  },
  {
   "cell_type": "code",
   "execution_count": null,
   "id": "953348e45aef3d3d",
   "metadata": {
    "ExecuteTime": {
     "end_time": "2024-03-09T17:39:20.848882Z",
     "start_time": "2024-03-09T17:39:20.841170Z"
    },
    "collapsed": false
   },
   "outputs": [
    {
     "name": "stdout",
     "output_type": "stream",
     "text": [
      "D\n"
     ]
    }
   ],
   "source": [
    "print(name[-3])"
   ]
  },
  {
   "cell_type": "code",
   "execution_count": null,
   "id": "2fff042dfe1eaf63",
   "metadata": {
    "ExecuteTime": {
     "end_time": "2024-03-10T05:12:55.461215Z",
     "start_time": "2024-03-10T05:12:55.196654Z"
    },
    "collapsed": false
   },
   "outputs": [
    {
     "ename": "TypeError",
     "evalue": "'str' object does not support item assignment",
     "output_type": "error",
     "traceback": [
      "\u001b[0;31m---------------------------------------------------------------------------\u001b[0m",
      "\u001b[0;31mTypeError\u001b[0m                                 Traceback (most recent call last)",
      "Cell \u001b[0;32mIn[3], line 3\u001b[0m\n\u001b[1;32m      1\u001b[0m \u001b[38;5;28mstr\u001b[39m \u001b[38;5;241m=\u001b[39m \u001b[38;5;124m\"\u001b[39m\u001b[38;5;124mAnik Das\u001b[39m\u001b[38;5;124m\"\u001b[39m\n\u001b[0;32m----> 3\u001b[0m \u001b[38;5;28;43mstr\u001b[39;49m\u001b[43m[\u001b[49m\u001b[38;5;241;43m0\u001b[39;49m\u001b[43m]\u001b[49m \u001b[38;5;241m=\u001b[39m \u001b[38;5;124m'\u001b[39m\u001b[38;5;124mx\u001b[39m\u001b[38;5;124m'\u001b[39m\n",
      "\u001b[0;31mTypeError\u001b[0m: 'str' object does not support item assignment"
     ]
    }
   ],
   "source": [
    "str = \"Anik Das\"\n",
    "\n",
    "str[0] = 'x'"
   ]
  },
  {
   "cell_type": "code",
   "execution_count": null,
   "id": "64d4c0004d150da7",
   "metadata": {
    "ExecuteTime": {
     "end_time": "2024-03-10T05:15:44.072113Z",
     "start_time": "2024-03-10T05:15:44.067268Z"
    },
    "collapsed": false
   },
   "outputs": [
    {
     "name": "stdout",
     "output_type": "stream",
     "text": [
      "Anik Das\n"
     ]
    }
   ],
   "source": [
    "#Concatination\n",
    "first_name = \"Anik\"\n",
    "last_name = \"Das\"\n",
    "\n",
    "complete_name = first_name +' '+ last_name\n",
    "\n",
    "print(complete_name)"
   ]
  },
  {
   "cell_type": "code",
   "execution_count": null,
   "id": "a4775a789e68dcf5",
   "metadata": {
    "ExecuteTime": {
     "end_time": "2024-03-10T05:16:37.755258Z",
     "start_time": "2024-03-10T05:16:37.749700Z"
    },
    "collapsed": false
   },
   "outputs": [
    {
     "name": "stdout",
     "output_type": "stream",
     "text": [
      "8\n"
     ]
    }
   ],
   "source": [
    "# Length of the string\n",
    "\n",
    "print(len(complete_name))"
   ]
  },
  {
   "cell_type": "markdown",
   "id": "5fcdc89afbebeef1",
   "metadata": {
    "collapsed": false
   },
   "source": [
    "# String Slicing"
   ]
  },
  {
   "cell_type": "code",
   "execution_count": null,
   "id": "576b09ece06b4b8a",
   "metadata": {
    "ExecuteTime": {
     "end_time": "2024-03-10T05:25:07.826410Z",
     "start_time": "2024-03-10T05:25:07.822113Z"
    },
    "collapsed": false
   },
   "outputs": [
    {
     "name": "stdout",
     "output_type": "stream",
     "text": [
      "shw\n"
     ]
    }
   ],
   "source": [
    "str = 'Vishwa Mohan'\n",
    "\n",
    "print(str[2:5])"
   ]
  },
  {
   "cell_type": "code",
   "execution_count": null,
   "id": "16a33d947a279eb0",
   "metadata": {
    "ExecuteTime": {
     "end_time": "2024-03-10T05:26:43.275883Z",
     "start_time": "2024-03-10T05:26:43.270555Z"
    },
    "collapsed": false
   },
   "outputs": [
    {
     "name": "stdout",
     "output_type": "stream",
     "text": [
      "shwa Mohan\n"
     ]
    }
   ],
   "source": [
    "print(str[2:])"
   ]
  },
  {
   "cell_type": "code",
   "execution_count": null,
   "id": "ac47dc755ea04729",
   "metadata": {
    "ExecuteTime": {
     "end_time": "2024-03-10T05:27:02.463802Z",
     "start_time": "2024-03-10T05:27:02.459257Z"
    },
    "collapsed": false
   },
   "outputs": [
    {
     "name": "stdout",
     "output_type": "stream",
     "text": [
      "Vishwa \n"
     ]
    }
   ],
   "source": [
    "print(str[:7])"
   ]
  },
  {
   "cell_type": "code",
   "execution_count": null,
   "id": "df079c93c71cf93f",
   "metadata": {
    "ExecuteTime": {
     "end_time": "2024-03-10T05:27:39.807404Z",
     "start_time": "2024-03-10T05:27:39.798816Z"
    },
    "collapsed": false
   },
   "outputs": [
    {
     "name": "stdout",
     "output_type": "stream",
     "text": [
      "Vishwa Mohan\n"
     ]
    }
   ],
   "source": [
    "print(str[:])"
   ]
  },
  {
   "cell_type": "code",
   "execution_count": null,
   "id": "45a6416b672dbd4f",
   "metadata": {
    "ExecuteTime": {
     "end_time": "2024-03-10T05:28:45.161866Z",
     "start_time": "2024-03-10T05:28:45.157930Z"
    },
    "collapsed": false
   },
   "outputs": [
    {
     "name": "stdout",
     "output_type": "stream",
     "text": [
      "hwa M\n"
     ]
    }
   ],
   "source": [
    "print(str[-9:-4])"
   ]
  },
  {
   "cell_type": "code",
   "execution_count": null,
   "id": "1b0c21326d915cb4",
   "metadata": {
    "ExecuteTime": {
     "end_time": "2024-03-10T05:29:23.401190Z",
     "start_time": "2024-03-10T05:29:23.395447Z"
    },
    "collapsed": false
   },
   "outputs": [
    {
     "name": "stdout",
     "output_type": "stream",
     "text": [
      "hwa Mo\n"
     ]
    }
   ],
   "source": [
    "print(str[-9:9])"
   ]
  },
  {
   "cell_type": "code",
   "execution_count": null,
   "id": "d33b3973dae591c6",
   "metadata": {
    "ExecuteTime": {
     "end_time": "2024-03-10T05:32:55.143461Z",
     "start_time": "2024-03-10T05:32:55.137728Z"
    },
    "collapsed": false
   },
   "outputs": [
    {
     "name": "stdout",
     "output_type": "stream",
     "text": [
      " VISHWA \n",
      " vishwa \n",
      " vishwa \n",
      "vIshwa\n"
     ]
    }
   ],
   "source": [
    "str = \" vIshwa \"\n",
    "print(str.upper())\n",
    "print(str.lower())\n",
    "print(str.capitalize())\n",
    "print(str.strip())"
   ]
  },
  {
   "cell_type": "code",
   "execution_count": null,
   "id": "1fcac82d04e5407",
   "metadata": {
    "ExecuteTime": {
     "end_time": "2024-03-10T05:36:18.209340Z",
     "start_time": "2024-03-10T05:36:18.205238Z"
    },
    "collapsed": false
   },
   "outputs": [
    {
     "name": "stdout",
     "output_type": "stream",
     "text": [
      "Hello dear, We are very good , We are very nice, I am wow\n"
     ]
    }
   ],
   "source": [
    "# Replace Method\n",
    "\n",
    "str = \"Hello dear, I am very good , I am very nice, I am wow\"\n",
    "\n",
    "print(str.replace(\"I am\",\"We are\",2))"
   ]
  },
  {
   "cell_type": "code",
   "execution_count": null,
   "id": "2676ed646579e29a",
   "metadata": {
    "ExecuteTime": {
     "end_time": "2024-03-10T05:40:00.016953Z",
     "start_time": "2024-03-10T05:40:00.005807Z"
    },
    "collapsed": false
   },
   "outputs": [
    {
     "name": "stdout",
     "output_type": "stream",
     "text": [
      "Hello  \n",
      " Anik\n"
     ]
    }
   ],
   "source": [
    "# Escape Character \n",
    "\n",
    "print(\"Hello  \\n Anik\")"
   ]
  },
  {
   "cell_type": "code",
   "execution_count": null,
   "id": "25c2678d0a9e3914",
   "metadata": {
    "ExecuteTime": {
     "end_time": "2024-03-10T05:41:36.472649Z",
     "start_time": "2024-03-10T05:41:36.468719Z"
    },
    "collapsed": false
   },
   "outputs": [
    {
     "name": "stdout",
     "output_type": "stream",
     "text": [
      "Anik\tDas\n"
     ]
    }
   ],
   "source": [
    "print(\"Anik\\tDas\")"
   ]
  },
  {
   "cell_type": "code",
   "execution_count": null,
   "id": "999322913791eeb8",
   "metadata": {
    "ExecuteTime": {
     "end_time": "2024-03-10T05:42:42.795838Z",
     "start_time": "2024-03-10T05:42:42.790885Z"
    },
    "collapsed": false
   },
   "outputs": [
    {
     "name": "stdout",
     "output_type": "stream",
     "text": [
      "Anik \"Das\"\n"
     ]
    }
   ],
   "source": [
    "print(\"Anik \\\"Das\\\"\")"
   ]
  },
  {
   "cell_type": "markdown",
   "id": "1e75866070e2318c",
   "metadata": {
    "collapsed": false
   },
   "source": [
    "# List Data Type"
   ]
  },
  {
   "cell_type": "code",
   "execution_count": null,
   "id": "ce155c4c89542669",
   "metadata": {
    "ExecuteTime": {
     "end_time": "2024-03-10T15:47:12.020015Z",
     "start_time": "2024-03-10T15:47:12.012766Z"
    },
    "collapsed": false
   },
   "outputs": [],
   "source": [
    "students = [\"Mohan\", \"Vishwa\", \"Shivani\", \"Sakshi\"]"
   ]
  },
  {
   "cell_type": "code",
   "execution_count": null,
   "id": "ae3d8f7939e33e87",
   "metadata": {
    "ExecuteTime": {
     "end_time": "2024-03-10T15:47:34.620335Z",
     "start_time": "2024-03-10T15:47:34.609579Z"
    },
    "collapsed": false
   },
   "outputs": [
    {
     "name": "stdout",
     "output_type": "stream",
     "text": [
      "['Mohan', 'Vishwa', 'Shivani', 'Sakshi']\n"
     ]
    }
   ],
   "source": [
    "print(students)"
   ]
  },
  {
   "cell_type": "code",
   "execution_count": null,
   "id": "8f6ff075e99b501c",
   "metadata": {
    "ExecuteTime": {
     "end_time": "2024-03-10T15:47:45.345858Z",
     "start_time": "2024-03-10T15:47:45.339536Z"
    },
    "collapsed": false
   },
   "outputs": [
    {
     "name": "stdout",
     "output_type": "stream",
     "text": [
      "<class 'list'>\n"
     ]
    }
   ],
   "source": [
    "print(type(students))"
   ]
  },
  {
   "cell_type": "code",
   "execution_count": null,
   "id": "8fe1879364d1517b",
   "metadata": {
    "ExecuteTime": {
     "end_time": "2024-03-10T15:49:02.984326Z",
     "start_time": "2024-03-10T15:49:02.979922Z"
    },
    "collapsed": false
   },
   "outputs": [
    {
     "name": "stdout",
     "output_type": "stream",
     "text": [
      "['Mohan', 'Vishwa', 'Shivani', 'Sakshi']\n"
     ]
    }
   ],
   "source": [
    "list2 = list(students)\n",
    "print(list2) # constructor method"
   ]
  },
  {
   "cell_type": "code",
   "execution_count": null,
   "id": "49c8805d3129994e",
   "metadata": {
    "ExecuteTime": {
     "end_time": "2024-03-10T15:49:46.233750Z",
     "start_time": "2024-03-10T15:49:46.223397Z"
    },
    "collapsed": false
   },
   "outputs": [
    {
     "name": "stdout",
     "output_type": "stream",
     "text": [
      "['V', 'i', 's', 'h', 'w', 'a']\n"
     ]
    }
   ],
   "source": [
    "list3 = list(\"Vishwa\")\n",
    "print(list3)"
   ]
  },
  {
   "cell_type": "code",
   "execution_count": null,
   "id": "da5b4c79cce7e9ab",
   "metadata": {
    "ExecuteTime": {
     "end_time": "2024-03-10T15:50:41.338111Z",
     "start_time": "2024-03-10T15:50:41.332564Z"
    },
    "collapsed": false
   },
   "outputs": [
    {
     "name": "stdout",
     "output_type": "stream",
     "text": [
      "[3, 4, 'Vishawa']\n"
     ]
    }
   ],
   "source": [
    "list4 = list((3,4,\"Vishawa\"))\n",
    "\n",
    "print(list4)"
   ]
  },
  {
   "cell_type": "code",
   "execution_count": null,
   "id": "47137efc3d478c6b",
   "metadata": {
    "ExecuteTime": {
     "end_time": "2024-03-10T16:02:38.759632Z",
     "start_time": "2024-03-10T16:02:38.754273Z"
    },
    "collapsed": false
   },
   "outputs": [
    {
     "name": "stdout",
     "output_type": "stream",
     "text": [
      "2\n",
      "2\n",
      "3\n"
     ]
    }
   ],
   "source": [
    "# Accessing the element of the list \n",
    "\n",
    "l1 = [1,3,9,2,5,6,7]\n",
    "print(l1[3])\n",
    "print(l1[-4])\n",
    "print(l1[-6])\n"
   ]
  },
  {
   "cell_type": "code",
   "execution_count": null,
   "id": "aa91227e5ff301a0",
   "metadata": {
    "ExecuteTime": {
     "end_time": "2024-03-10T16:05:14.262242Z",
     "start_time": "2024-03-10T16:05:14.256857Z"
    },
    "collapsed": false
   },
   "outputs": [
    {
     "name": "stdout",
     "output_type": "stream",
     "text": [
      "[3, 2, 1, 5, 9, 11]\n"
     ]
    }
   ],
   "source": [
    "# Inserting element \n",
    "\n",
    "arr = [3,2,1,5,9]\n",
    "\n",
    "arr.append(11)\n",
    "print(arr)"
   ]
  },
  {
   "cell_type": "code",
   "execution_count": null,
   "id": "6b69269fe3af88e2",
   "metadata": {
    "ExecuteTime": {
     "end_time": "2024-03-10T16:05:57.150143Z",
     "start_time": "2024-03-10T16:05:57.145945Z"
    },
    "collapsed": false
   },
   "outputs": [
    {
     "name": "stdout",
     "output_type": "stream",
     "text": [
      "[3, 2, 1, 43, 5, 9, 11]\n"
     ]
    }
   ],
   "source": [
    "arr.insert(3,43)\n",
    "print(arr)"
   ]
  },
  {
   "cell_type": "code",
   "execution_count": null,
   "id": "ca4cbaa5928ae626",
   "metadata": {
    "ExecuteTime": {
     "end_time": "2024-03-10T16:07:21.273354Z",
     "start_time": "2024-03-10T16:07:21.269080Z"
    },
    "collapsed": false
   },
   "outputs": [
    {
     "name": "stdout",
     "output_type": "stream",
     "text": [
      "[1, 2, 'Vishwa', 'Mohan']\n"
     ]
    }
   ],
   "source": [
    "l1 = [1,2]\n",
    "l2 = [\"Vishwa\", \"Mohan\"]\n",
    "l1.extend(l2)\n",
    "print(l1)"
   ]
  },
  {
   "cell_type": "code",
   "execution_count": null,
   "id": "1393e62a16d6b7e2",
   "metadata": {
    "ExecuteTime": {
     "end_time": "2024-03-10T16:09:55.518248Z",
     "start_time": "2024-03-10T16:09:55.508848Z"
    },
    "collapsed": false
   },
   "outputs": [
    {
     "name": "stdout",
     "output_type": "stream",
     "text": [
      "[3, 5, 2, 9]\n"
     ]
    }
   ],
   "source": [
    "# Remove Elements from the list\n",
    "\n",
    "arr = [3,5,2,1,9]\n",
    "arr.remove(1)\n",
    "print(arr)"
   ]
  },
  {
   "cell_type": "code",
   "execution_count": null,
   "id": "7226623462b30ee0",
   "metadata": {
    "ExecuteTime": {
     "end_time": "2024-03-10T16:10:51.405190Z",
     "start_time": "2024-03-10T16:10:51.399944Z"
    },
    "collapsed": false
   },
   "outputs": [
    {
     "name": "stdout",
     "output_type": "stream",
     "text": [
      "[3, 5, 2, 9, 1, 8, 1]\n"
     ]
    }
   ],
   "source": [
    "arr  = [3,5,2,1,9,1,8,1]\n",
    "arr.remove(1)\n",
    "print(arr)"
   ]
  },
  {
   "cell_type": "code",
   "execution_count": null,
   "id": "d02b52633daf8777",
   "metadata": {
    "ExecuteTime": {
     "end_time": "2024-03-10T16:13:43.895137Z",
     "start_time": "2024-03-10T16:13:43.886511Z"
    },
    "collapsed": false
   },
   "outputs": [
    {
     "name": "stdout",
     "output_type": "stream",
     "text": [
      "45\n",
      "7\n",
      "[3, 1, 9, 11, 23]\n"
     ]
    }
   ],
   "source": [
    "arr = [3,1,7,9,11,23,45]\n",
    "\n",
    "print(arr.pop())\n",
    "print(arr.pop(2))\n",
    "\n",
    "print(arr)"
   ]
  },
  {
   "cell_type": "code",
   "execution_count": null,
   "id": "620caec78be4ea15",
   "metadata": {
    "ExecuteTime": {
     "end_time": "2024-03-10T16:17:28.921052Z",
     "start_time": "2024-03-10T16:17:28.912759Z"
    },
    "collapsed": false
   },
   "outputs": [
    {
     "name": "stdout",
     "output_type": "stream",
     "text": [
      "['a', 'b', 'c', 'f', 'e']\n"
     ]
    }
   ],
   "source": [
    "students = ['a','b','c','d','e']\n",
    "\n",
    "students[3] = 'f'\n",
    "print(students)"
   ]
  },
  {
   "cell_type": "code",
   "execution_count": null,
   "id": "3a71bb9210a2d9b1",
   "metadata": {
    "ExecuteTime": {
     "end_time": "2024-03-10T16:18:42.886849Z",
     "start_time": "2024-03-10T16:18:42.878382Z"
    },
    "collapsed": false
   },
   "outputs": [
    {
     "name": "stdout",
     "output_type": "stream",
     "text": [
      "['a', 'm', 'n', 'o', 'e']\n"
     ]
    }
   ],
   "source": [
    "students[1:4] = 'm','n','o'\n",
    "\n",
    "print(students)"
   ]
  },
  {
   "cell_type": "code",
   "execution_count": null,
   "id": "462f9f854d482e6c",
   "metadata": {
    "ExecuteTime": {
     "end_time": "2024-03-10T16:20:57.570957Z",
     "start_time": "2024-03-10T16:20:57.565747Z"
    },
    "collapsed": false
   },
   "outputs": [
    {
     "name": "stdout",
     "output_type": "stream",
     "text": [
      "[9, 8, 7, 6, 5, 4, 3, 2, 1]\n"
     ]
    }
   ],
   "source": [
    "l1 = [1,2,3,4,5,6,7,8,9]\n",
    "l1.reverse()\n",
    "print(l1)"
   ]
  },
  {
   "cell_type": "code",
   "execution_count": null,
   "id": "d1a2ebffd95dd5e5",
   "metadata": {
    "ExecuteTime": {
     "end_time": "2024-03-10T16:22:36.325501Z",
     "start_time": "2024-03-10T16:22:36.314985Z"
    },
    "collapsed": false
   },
   "outputs": [
    {
     "name": "stdout",
     "output_type": "stream",
     "text": [
      "[9, 8, 7, 6, 5, 4, 3, 2, 1]\n",
      "140176660529280 140176660767168\n"
     ]
    }
   ],
   "source": [
    "l1_copy = l1.copy()\n",
    "print(l1_copy)\n",
    "\n",
    "print(id(l1_copy), id(l1))\n"
   ]
  },
  {
   "cell_type": "code",
   "execution_count": null,
   "id": "129f06e25402fee5",
   "metadata": {
    "ExecuteTime": {
     "end_time": "2024-03-10T16:25:00.060360Z",
     "start_time": "2024-03-10T16:25:00.054514Z"
    },
    "collapsed": false
   },
   "outputs": [
    {
     "name": "stdout",
     "output_type": "stream",
     "text": [
      "[1, 2, 3, 4, 5, 6, 7, 8, 9]\n"
     ]
    }
   ],
   "source": [
    "l1.sort()\n",
    "\n",
    "print(l1)"
   ]
  },
  {
   "cell_type": "markdown",
   "id": "d949bb891fed983c",
   "metadata": {
    "collapsed": false
   },
   "source": [
    "# Tuple "
   ]
  },
  {
   "cell_type": "code",
   "execution_count": 21,
   "id": "2a92cea114869c0c",
   "metadata": {
    "ExecuteTime": {
     "end_time": "2024-03-10T16:27:00.767348Z",
     "start_time": "2024-03-10T16:27:00.762760Z"
    },
    "collapsed": false
   },
   "outputs": [
    {
     "name": "stdout",
     "output_type": "stream",
     "text": [
      "(3, 6, 1, 9, 10)\n",
      "<class 'tuple'>\n"
     ]
    }
   ],
   "source": [
    "tup1 = (3,6,1,9,10)\n",
    "print(tup1)\n",
    "print(type(tup1))"
   ]
  },
  {
   "cell_type": "code",
   "execution_count": 22,
   "id": "5f1b9884e22c1cdb",
   "metadata": {
    "collapsed": false
   },
   "outputs": [
    {
     "name": "stdout",
     "output_type": "stream",
     "text": [
      "(1, 2, 4)\n"
     ]
    }
   ],
   "source": [
    "t1 = tuple([1,2,4])\n",
    "\n",
    "print(t1)"
   ]
  },
  {
   "cell_type": "code",
   "execution_count": 23,
   "id": "b41785d8",
   "metadata": {},
   "outputs": [
    {
     "name": "stdout",
     "output_type": "stream",
     "text": [
      "('V', 'i', 's', 'h', 'w', 'a') (3, 6, 1, 9, 10)\n"
     ]
    }
   ],
   "source": [
    "t2 = tuple(\"Vishwa\")\n",
    "t3 = tuple(tup1)\n",
    "\n",
    "print(t2,t3)"
   ]
  },
  {
   "cell_type": "code",
   "execution_count": 24,
   "id": "aea071aa",
   "metadata": {},
   "outputs": [
    {
     "name": "stdout",
     "output_type": "stream",
     "text": [
      "<class 'int'>\n"
     ]
    }
   ],
   "source": [
    "t = (35)\n",
    "\n",
    "print(type(t))"
   ]
  },
  {
   "cell_type": "code",
   "execution_count": 25,
   "id": "85487af1",
   "metadata": {},
   "outputs": [
    {
     "name": "stdout",
     "output_type": "stream",
     "text": [
      "<class 'tuple'>\n"
     ]
    }
   ],
   "source": [
    "t = (35,)\n",
    "\n",
    "print(type(t))"
   ]
  },
  {
   "cell_type": "code",
   "execution_count": 27,
   "id": "25257d34",
   "metadata": {},
   "outputs": [
    {
     "name": "stdout",
     "output_type": "stream",
     "text": [
      "3\n"
     ]
    }
   ],
   "source": [
    "fruits = ('apple', 'mango', 'banana', 'apple', 'mango', 'apple', 'strawberry')\n",
    "\n",
    "print(fruits.count('apple'))"
   ]
  },
  {
   "cell_type": "code",
   "execution_count": 28,
   "id": "cfdcd5eb",
   "metadata": {},
   "outputs": [
    {
     "name": "stdout",
     "output_type": "stream",
     "text": [
      "0\n"
     ]
    }
   ],
   "source": [
    "print(fruits.count('jackfruit'))"
   ]
  },
  {
   "cell_type": "code",
   "execution_count": 29,
   "id": "b2bd94c2",
   "metadata": {},
   "outputs": [
    {
     "ename": "ValueError",
     "evalue": "tuple.index(x): x not in tuple",
     "output_type": "error",
     "traceback": [
      "\u001b[0;31m---------------------------------------------------------------------------\u001b[0m",
      "\u001b[0;31mValueError\u001b[0m                                Traceback (most recent call last)",
      "\u001b[1;32m/workspace/python-for-ai-pwskill-/Data Types.ipynb Cell 61\u001b[0m line \u001b[0;36m1\n\u001b[0;32m----> <a href='vscode-notebook-cell://anik00716-pythonforaipw-gk5590d2qwy.ws-us110.gitpod.io/workspace/python-for-ai-pwskill-/Data%20Types.ipynb#Y114sdnNjb2RlLXJlbW90ZQ%3D%3D?line=0'>1</a>\u001b[0m \u001b[39mprint\u001b[39m(fruits\u001b[39m.\u001b[39;49mindex(\u001b[39m'\u001b[39;49m\u001b[39mjackfruit\u001b[39;49m\u001b[39m'\u001b[39;49m))\n",
      "\u001b[0;31mValueError\u001b[0m: tuple.index(x): x not in tuple"
     ]
    }
   ],
   "source": [
    "print(fruits.index('jackfruit'))\n"
   ]
  },
  {
   "cell_type": "code",
   "execution_count": 30,
   "id": "48c78dab",
   "metadata": {},
   "outputs": [
    {
     "name": "stdout",
     "output_type": "stream",
     "text": [
      "0\n"
     ]
    }
   ],
   "source": [
    "print(fruits.index('apple'))\n"
   ]
  },
  {
   "cell_type": "code",
   "execution_count": 32,
   "id": "afee585d",
   "metadata": {},
   "outputs": [
    {
     "name": "stdout",
     "output_type": "stream",
     "text": [
      "1\n"
     ]
    }
   ],
   "source": [
    "print(fruits.index('mango'))"
   ]
  },
  {
   "cell_type": "code",
   "execution_count": 33,
   "id": "a5d8f7e9",
   "metadata": {},
   "outputs": [
    {
     "name": "stdout",
     "output_type": "stream",
     "text": [
      "7\n"
     ]
    }
   ],
   "source": [
    "print(len(fruits))"
   ]
  },
  {
   "cell_type": "code",
   "execution_count": 34,
   "id": "f35468ee",
   "metadata": {},
   "outputs": [
    {
     "name": "stdout",
     "output_type": "stream",
     "text": [
      "apple\n",
      "mango\n"
     ]
    }
   ],
   "source": [
    "fruits = ('apple', 'mango', 'banana', 'apple', 'mango', 'apple', 'strawberry')\n",
    "\n",
    "\n",
    "print(fruits[3])\n",
    "print(fruits[-3])\n"
   ]
  },
  {
   "cell_type": "code",
   "execution_count": 35,
   "id": "de662ba4",
   "metadata": {},
   "outputs": [
    {
     "ename": "TypeError",
     "evalue": "'tuple' object does not support item assignment",
     "output_type": "error",
     "traceback": [
      "\u001b[0;31m---------------------------------------------------------------------------\u001b[0m",
      "\u001b[0;31mTypeError\u001b[0m                                 Traceback (most recent call last)",
      "\u001b[1;32m/workspace/python-for-ai-pwskill-/Data Types.ipynb Cell 66\u001b[0m line \u001b[0;36m1\n\u001b[0;32m----> <a href='vscode-notebook-cell://anik00716-pythonforaipw-gk5590d2qwy.ws-us110.gitpod.io/workspace/python-for-ai-pwskill-/Data%20Types.ipynb#Y122sdnNjb2RlLXJlbW90ZQ%3D%3D?line=0'>1</a>\u001b[0m fruits[\u001b[39m3\u001b[39;49m] \u001b[39m=\u001b[39m \u001b[39m'\u001b[39m\u001b[39mjackfruits\u001b[39m\u001b[39m'\u001b[39m\n\u001b[1;32m      <a href='vscode-notebook-cell://anik00716-pythonforaipw-gk5590d2qwy.ws-us110.gitpod.io/workspace/python-for-ai-pwskill-/Data%20Types.ipynb#Y122sdnNjb2RlLXJlbW90ZQ%3D%3D?line=2'>3</a>\u001b[0m \u001b[39mprint\u001b[39m(fruits)\n",
      "\u001b[0;31mTypeError\u001b[0m: 'tuple' object does not support item assignment"
     ]
    }
   ],
   "source": [
    "fruits[3] = 'jackfruits'\n",
    "\n",
    "print(fruits)"
   ]
  },
  {
   "cell_type": "code",
   "execution_count": 37,
   "id": "4726fb4a",
   "metadata": {},
   "outputs": [
    {
     "name": "stdout",
     "output_type": "stream",
     "text": [
      "('banana', 'apple', 'mango', 'apple', 'strawberry')\n"
     ]
    }
   ],
   "source": [
    "print(fruits[2:7])"
   ]
  },
  {
   "cell_type": "markdown",
   "id": "0ec06c56",
   "metadata": {},
   "source": [
    "## Boolean Data Type"
   ]
  },
  {
   "cell_type": "code",
   "execution_count": 38,
   "id": "78a60c13",
   "metadata": {},
   "outputs": [
    {
     "name": "stdout",
     "output_type": "stream",
     "text": [
      "True\n",
      "False\n"
     ]
    }
   ],
   "source": [
    "print(True)\n",
    "print(False)"
   ]
  },
  {
   "cell_type": "markdown",
   "id": "5afa2fc2",
   "metadata": {},
   "source": [
    "## Dictionary"
   ]
  },
  {
   "cell_type": "code",
   "execution_count": 42,
   "id": "96c41690",
   "metadata": {},
   "outputs": [
    {
     "name": "stdout",
     "output_type": "stream",
     "text": [
      "{'name': 'Anik', 'age': 21, 'city': 'Kolkata'}\n",
      "<class 'dict'>\n"
     ]
    }
   ],
   "source": [
    "students_details = {'name': 'Anik','age': 21, 'city': 'Kolkata'}\n",
    "\n",
    "print(students_details)\n",
    "print(type(students_details))"
   ]
  },
  {
   "cell_type": "code",
   "execution_count": 44,
   "id": "556f0094",
   "metadata": {},
   "outputs": [
    {
     "name": "stdout",
     "output_type": "stream",
     "text": [
      "{1: 'Love', 2: 'mohan'}\n"
     ]
    }
   ],
   "source": [
    "dict1 = {1:'Vishwa', 2: 'mohan',True : 'Love' }\n",
    "\n",
    "print(dict1)"
   ]
  },
  {
   "cell_type": "code",
   "execution_count": 45,
   "id": "9366ec97",
   "metadata": {},
   "outputs": [
    {
     "name": "stdout",
     "output_type": "stream",
     "text": [
      "{3: 'Vishwa', 2: 'mohan', True: 'Love'}\n"
     ]
    }
   ],
   "source": [
    "dict1 = {3:'Vishwa', 2: 'mohan',True : 'Love' }\n",
    "\n",
    "print(dict1)"
   ]
  },
  {
   "cell_type": "code",
   "execution_count": 46,
   "id": "db462992",
   "metadata": {},
   "outputs": [
    {
     "ename": "SyntaxError",
     "evalue": "cannot assign to True (3956726633.py, line 3)",
     "output_type": "error",
     "traceback": [
      "\u001b[0;36m  Cell \u001b[0;32mIn[46], line 3\u001b[0;36m\u001b[0m\n\u001b[0;31m    dict1 = dict(name = \"Vishwa\", age = \"Mohan\", True = \"Love\")\u001b[0m\n\u001b[0m                                                 ^\u001b[0m\n\u001b[0;31mSyntaxError\u001b[0m\u001b[0;31m:\u001b[0m cannot assign to True\n"
     ]
    }
   ],
   "source": [
    "# Dictionary Constructor Methods\n",
    "\n",
    "dict1 = dict(name = \"Vishwa\", age = \"Mohan\", True = \"Love\")\n"
   ]
  },
  {
   "cell_type": "code",
   "execution_count": 49,
   "id": "d56d6a61",
   "metadata": {},
   "outputs": [
    {
     "name": "stdout",
     "output_type": "stream",
     "text": [
      "{'name': 'Vishwa', 'age': 'Mohan'}\n"
     ]
    }
   ],
   "source": [
    "dict1 = dict(name = \"Vishwa\", age = \"Mohan\")\n",
    "\n",
    "print(dict1)"
   ]
  },
  {
   "cell_type": "code",
   "execution_count": 50,
   "id": "82f860b9",
   "metadata": {},
   "outputs": [
    {
     "name": "stdout",
     "output_type": "stream",
     "text": [
      "<class 'dict'>\n"
     ]
    }
   ],
   "source": [
    "print(type(dict1))"
   ]
  },
  {
   "cell_type": "code",
   "execution_count": 53,
   "id": "3784a3bc",
   "metadata": {},
   "outputs": [
    {
     "name": "stdout",
     "output_type": "stream",
     "text": [
      "Anik\n",
      "Kolkata\n"
     ]
    }
   ],
   "source": [
    "# Access the elements of the dictionary \n",
    "\n",
    "students_details = {'name': 'Anik','age': 21, 'city': 'Kolkata'}\n",
    "\n",
    "print(students_details['name'])\n",
    "\n",
    "print(students_details['city'])\n"
   ]
  },
  {
   "cell_type": "code",
   "execution_count": 57,
   "id": "c662941d",
   "metadata": {},
   "outputs": [
    {
     "name": "stdout",
     "output_type": "stream",
     "text": [
      "dict_keys(['name', 'age', 'city'])\n",
      "dict_values(['Anik', 21, 'Kolkata'])\n",
      "dict_items([('name', 'Anik'), ('age', 21), ('city', 'Kolkata')])\n"
     ]
    }
   ],
   "source": [
    "print(students_details.keys())\n",
    "\n",
    "print(students_details.values())\n",
    "\n",
    "print(students_details.items())"
   ]
  },
  {
   "cell_type": "markdown",
   "id": "a962d7ba",
   "metadata": {},
   "source": [
    "How do we add elements in the dictionary   |  key,value"
   ]
  },
  {
   "cell_type": "code",
   "execution_count": 63,
   "id": "c59ef763",
   "metadata": {},
   "outputs": [
    {
     "name": "stdout",
     "output_type": "stream",
     "text": [
      "{'name': 'Anik', 'age': 21, 'city': 'Kolkata', 'country': 'India'}\n"
     ]
    }
   ],
   "source": [
    "students_details = {'name': 'Anik','age': 21, 'city': 'Kolkata'}\n",
    "\n",
    "students_details['country'] = 'India'\n",
    "\n",
    "print(students_details)"
   ]
  },
  {
   "cell_type": "code",
   "execution_count": 64,
   "id": "4fcec1c9",
   "metadata": {},
   "outputs": [
    {
     "name": "stdout",
     "output_type": "stream",
     "text": [
      "{'name': 'Anik', 'age': 21, 'city': 'Kolkata', 'English': 100, 'Maths': 78, 'Science': 92}\n"
     ]
    }
   ],
   "source": [
    "students_details = {'name': 'Anik','age': 21, 'city': 'Kolkata'}\n",
    "\n",
    "marks_details = {'English': 100, 'Maths': 78, 'Science' : 92}\n",
    "\n",
    "students_details.update(marks_details)\n",
    "\n",
    "print(students_details)"
   ]
  },
  {
   "cell_type": "code",
   "execution_count": 65,
   "id": "cd9436e8",
   "metadata": {},
   "outputs": [
    {
     "name": "stdout",
     "output_type": "stream",
     "text": [
      "{'name': 'Anik', 'age': 21, 'English': 100, 'Maths': 78, 'Science': 92}\n"
     ]
    }
   ],
   "source": [
    "# Remove the elements from the dictionary\n",
    "\n",
    "students_details.pop('city')\n",
    "print(students_details)"
   ]
  },
  {
   "cell_type": "code",
   "execution_count": 66,
   "id": "6db3e3ba",
   "metadata": {},
   "outputs": [
    {
     "name": "stdout",
     "output_type": "stream",
     "text": [
      "('Science', 92)\n",
      "{'name': 'Anik', 'age': 21, 'English': 100, 'Maths': 78}\n"
     ]
    }
   ],
   "source": [
    "print(students_details.popitem())\n",
    "\n",
    "print(students_details)\n"
   ]
  },
  {
   "cell_type": "code",
   "execution_count": 67,
   "id": "052e45a2",
   "metadata": {},
   "outputs": [
    {
     "name": "stdout",
     "output_type": "stream",
     "text": [
      "{'name': 'Anik', 'English': 100, 'Maths': 78}\n"
     ]
    }
   ],
   "source": [
    "del students_details['age']\n",
    "\n",
    "print(students_details)"
   ]
  },
  {
   "cell_type": "code",
   "execution_count": 68,
   "id": "1c50fdce",
   "metadata": {},
   "outputs": [
    {
     "name": "stdout",
     "output_type": "stream",
     "text": [
      "{}\n"
     ]
    }
   ],
   "source": [
    "students_details.clear()\n",
    "print(students_details)"
   ]
  },
  {
   "cell_type": "markdown",
   "id": "4df852a4",
   "metadata": {},
   "source": [
    "## Set Data Type"
   ]
  },
  {
   "cell_type": "code",
   "execution_count": 69,
   "id": "6b01175b",
   "metadata": {},
   "outputs": [
    {
     "name": "stdout",
     "output_type": "stream",
     "text": [
      "{1, 2, 3, 5}\n",
      "<class 'set'>\n"
     ]
    }
   ],
   "source": [
    "my_set = {1,2,3,5}\n",
    "\n",
    "print(my_set)\n",
    "\n",
    "print(type(my_set))"
   ]
  },
  {
   "cell_type": "code",
   "execution_count": 70,
   "id": "a786b9d0",
   "metadata": {},
   "outputs": [
    {
     "name": "stdout",
     "output_type": "stream",
     "text": [
      "{1, 2, 4, 5, 7, 9}\n"
     ]
    }
   ],
   "source": [
    "s1 = {1,4,5,2,1,9,7,4,1}\n",
    "print(s1)"
   ]
  },
  {
   "cell_type": "code",
   "execution_count": 71,
   "id": "cc630bc0",
   "metadata": {},
   "outputs": [
    {
     "name": "stdout",
     "output_type": "stream",
     "text": [
      "set()\n"
     ]
    }
   ],
   "source": [
    "s2 = set()\n",
    "print(s2)"
   ]
  },
  {
   "cell_type": "code",
   "execution_count": 73,
   "id": "55717203",
   "metadata": {},
   "outputs": [
    {
     "name": "stdout",
     "output_type": "stream",
     "text": [
      "{5, 6, 7}\n"
     ]
    }
   ],
   "source": [
    "s3= set({5,6,7})\n",
    "print(s3)"
   ]
  },
  {
   "cell_type": "code",
   "execution_count": 76,
   "id": "0fb4799c",
   "metadata": {},
   "outputs": [
    {
     "name": "stdout",
     "output_type": "stream",
     "text": [
      "{13, 12, 5}\n"
     ]
    }
   ],
   "source": [
    "# Add\n",
    "\n",
    "s = set()\n",
    "\n",
    "s.add(5)\n",
    "s.add(13)\n",
    "s.add(5)\n",
    "s.add(12)\n",
    "\n",
    "print(s)"
   ]
  },
  {
   "cell_type": "code",
   "execution_count": 77,
   "id": "4e37dbf9",
   "metadata": {},
   "outputs": [
    {
     "name": "stdout",
     "output_type": "stream",
     "text": [
      "{9, 3, 4}\n"
     ]
    }
   ],
   "source": [
    "# Remove \n",
    "\n",
    "s1 = {3,9,7,4}\n",
    "\n",
    "s1.discard(7)\n",
    "\n",
    "print(s1)"
   ]
  },
  {
   "cell_type": "code",
   "execution_count": 78,
   "id": "a57d96a3",
   "metadata": {},
   "outputs": [
    {
     "ename": "KeyError",
     "evalue": "12",
     "output_type": "error",
     "traceback": [
      "\u001b[0;31m---------------------------------------------------------------------------\u001b[0m",
      "\u001b[0;31mKeyError\u001b[0m                                  Traceback (most recent call last)",
      "\u001b[1;32m/workspace/python-for-ai-pwskill-/Data Types.ipynb Cell 93\u001b[0m line \u001b[0;36m1\n\u001b[0;32m----> <a href='vscode-notebook-cell://anik00716-pythonforaipw-gk5590d2qwy.ws-us110.gitpod.io/workspace/python-for-ai-pwskill-/Data%20Types.ipynb#Y161sdnNjb2RlLXJlbW90ZQ%3D%3D?line=0'>1</a>\u001b[0m s1\u001b[39m.\u001b[39;49mremove(\u001b[39m12\u001b[39;49m)\n\u001b[1;32m      <a href='vscode-notebook-cell://anik00716-pythonforaipw-gk5590d2qwy.ws-us110.gitpod.io/workspace/python-for-ai-pwskill-/Data%20Types.ipynb#Y161sdnNjb2RlLXJlbW90ZQ%3D%3D?line=2'>3</a>\u001b[0m \u001b[39mprint\u001b[39m(s1)\n",
      "\u001b[0;31mKeyError\u001b[0m: 12"
     ]
    }
   ],
   "source": [
    "s1.remove(12)\n",
    "\n",
    "print(s1)"
   ]
  },
  {
   "cell_type": "markdown",
   "id": "cf79ff34",
   "metadata": {},
   "source": [
    "### FrozenSet : Immutable set"
   ]
  },
  {
   "cell_type": "code",
   "execution_count": 80,
   "id": "60f3e5a3",
   "metadata": {},
   "outputs": [
    {
     "name": "stdout",
     "output_type": "stream",
     "text": [
      "frozenset({1, 2, 3})\n",
      "<class 'frozenset'>\n"
     ]
    }
   ],
   "source": [
    "fs = frozenset([1,2,3])\n",
    "\n",
    "print(fs)\n",
    "\n",
    "print(type(fs))"
   ]
  },
  {
   "cell_type": "code",
   "execution_count": 82,
   "id": "05a9d5c3",
   "metadata": {},
   "outputs": [
    {
     "name": "stdout",
     "output_type": "stream",
     "text": [
      "frozenset({1, 2, 3})\n"
     ]
    }
   ],
   "source": [
    "fs2 = frozenset({1,2,3})\n",
    "print(fs2)"
   ]
  },
  {
   "cell_type": "code",
   "execution_count": 83,
   "id": "87b176c5",
   "metadata": {},
   "outputs": [
    {
     "name": "stdout",
     "output_type": "stream",
     "text": [
      "{frozenset({1, 2, 3}): 'Vishawa'}\n"
     ]
    }
   ],
   "source": [
    "dict1 = {fs2 : \"Vishawa\"}\n",
    "\n",
    "print(dict1)"
   ]
  },
  {
   "cell_type": "code",
   "execution_count": 85,
   "id": "e31ff3a4",
   "metadata": {},
   "outputs": [
    {
     "name": "stdout",
     "output_type": "stream",
     "text": [
      "11.5\n"
     ]
    }
   ],
   "source": [
    "# Implicit typecasting\n",
    "\n",
    "x = 5\n",
    "\n",
    "y = 6.5\n",
    "\n",
    "result = x + y\n",
    "\n",
    "print(result)    # here python change the type of x from int to float"
   ]
  },
  {
   "cell_type": "code",
   "execution_count": 87,
   "id": "86eeb95b",
   "metadata": {},
   "outputs": [
    {
     "name": "stdout",
     "output_type": "stream",
     "text": [
      "<class 'str'>\n",
      "<class 'int'>\n"
     ]
    }
   ],
   "source": [
    "y = '10'\n",
    "\n",
    "print(type(y))\n",
    "int_y = int(y)  # this is typecasting\n",
    "\n",
    "\n",
    "print(type(int_y))"
   ]
  },
  {
   "cell_type": "code",
   "execution_count": null,
   "id": "4ec140f4",
   "metadata": {},
   "outputs": [],
   "source": []
  }
 ],
 "metadata": {
  "kernelspec": {
   "display_name": "Python 3",
   "language": "python",
   "name": "python3"
  },
  "language_info": {
   "codemirror_mode": {
    "name": "ipython",
    "version": 3
   },
   "file_extension": ".py",
   "mimetype": "text/x-python",
   "name": "python",
   "nbconvert_exporter": "python",
   "pygments_lexer": "ipython3",
   "version": "3.12.2"
  }
 },
 "nbformat": 4,
 "nbformat_minor": 5
}
